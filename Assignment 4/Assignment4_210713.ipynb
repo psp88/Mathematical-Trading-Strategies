{
  "nbformat": 4,
  "nbformat_minor": 0,
  "metadata": {
    "colab": {
      "provenance": []
    },
    "kernelspec": {
      "name": "python3",
      "display_name": "Python 3"
    },
    "language_info": {
      "name": "python"
    }
  },
  "cells": [
    {
      "cell_type": "code",
      "source": [
        "import pandas as pd\n",
        "import numpy as np\n",
        "import yfinance as yf\n",
        "import matplotlib.pyplot as plt"
      ],
      "metadata": {
        "id": "zCr_qgAarSUw"
      },
      "execution_count": 30,
      "outputs": []
    },
    {
      "cell_type": "code",
      "source": [
        "# Fetch historical price data using yfinance\n",
        "ticker = \"AMZN\"\n",
        "start_date = \"2011-01-01\"\n",
        "end_date = \"2023-01-01\"\n",
        "\n",
        "data = yf.download(ticker, start=start_date, end=end_date)\n",
        "df = data[['Open', 'High', 'Low', 'Close']].copy()"
      ],
      "metadata": {
        "colab": {
          "base_uri": "https://localhost:8080/"
        },
        "id": "HIZQoJn6rZp7",
        "outputId": "bf4b4205-553e-4ad7-ebcc-7d8bcbc1b543"
      },
      "execution_count": 31,
      "outputs": [
        {
          "output_type": "stream",
          "name": "stdout",
          "text": [
            "\r[*********************100%***********************]  1 of 1 completed\n"
          ]
        }
      ]
    },
    {
      "cell_type": "code",
      "source": [
        "# Calculate MACD\n",
        "def calculate_macd(df, short_period=12, long_period=26, signal_period=9):\n",
        "    df['EMA_short'] = df['Close'].ewm(span=short_period, adjust=False).mean()\n",
        "    df['EMA_long'] = df['Close'].ewm(span=long_period, adjust=False).mean()\n",
        "    df['MACD'] = df['EMA_short'] - df['EMA_long']\n",
        "    df['Signal'] = df['MACD'].ewm(span=signal_period, adjust=False).mean()\n",
        "\n",
        "calculate_macd(df)"
      ],
      "metadata": {
        "id": "Uyqw9C2rriBF"
      },
      "execution_count": 32,
      "outputs": []
    },
    {
      "cell_type": "code",
      "source": [
        "# Identify Double Top pattern\n",
        "def identify_double_top(df, lookback=5):\n",
        "    df['High_shifted'] = df['High'].shift(1)\n",
        "    df['Low_shifted'] = df['Low'].shift(1)\n",
        "    df['Double_Top'] = ((df['High'] > df['High_shifted']) &\n",
        "                        (df['High_shifted'] < df['High_shifted'].shift(1)) &\n",
        "                        (df['Low'] < df['Low_shifted']))\n",
        "    df.drop(['High_shifted', 'Low_shifted'], axis=1, inplace=True)\n",
        "\n",
        "identify_double_top(df)"
      ],
      "metadata": {
        "id": "r4P-0rIVrobM"
      },
      "execution_count": 33,
      "outputs": []
    },
    {
      "cell_type": "code",
      "execution_count": 34,
      "metadata": {
        "colab": {
          "base_uri": "https://localhost:8080/"
        },
        "id": "F3hS_r1tpqnd",
        "outputId": "d38d1168-09e5-4e2e-f4d4-7c71d4bf11da"
      },
      "outputs": [
        {
          "output_type": "stream",
          "name": "stdout",
          "text": [
            "Buy at: 9.274499893188477\n",
            "Sell at: 9.187000274658203\n",
            "Buy at: 11.065999984741211\n",
            "Sell at: 10.883000373840332\n",
            "Buy at: 10.809000015258789\n",
            "Sell at: 12.042999267578125\n",
            "Buy at: 9.722000122070312\n",
            "Sell at: 9.484999656677246\n",
            "Buy at: 9.221500396728516\n",
            "Sell at: 9.634500503540039\n",
            "Buy at: 11.028499603271484\n",
            "Sell at: 11.026000022888184\n",
            "Buy at: 11.152000427246094\n",
            "Sell at: 11.06149959564209\n",
            "Buy at: 11.82800006866455\n",
            "Sell at: 11.662500381469727\n",
            "Buy at: 12.394000053405762\n",
            "Sell at: 13.184000968933105\n",
            "Buy at: 13.074999809265137\n",
            "Sell at: 12.82699966430664\n",
            "Buy at: 13.709500312805176\n",
            "Sell at: 13.574999809265137\n",
            "Buy at: 13.706500053405762\n",
            "Sell at: 13.517999649047852\n",
            "Buy at: 14.803000450134277\n",
            "Sell at: 15.624001502990723\n",
            "Buy at: 18.135000228881836\n",
            "Sell at: 17.81450080871582\n",
            "Buy at: 17.80900001525879\n",
            "Sell at: 17.725000381469727\n",
            "Buy at: 16.857500076293945\n",
            "Sell at: 16.147499084472656\n",
            "Buy at: 15.33899974822998\n",
            "Sell at: 16.041000366210938\n",
            "Buy at: 16.95199966430664\n",
            "Sell at: 16.884000778198242\n",
            "Buy at: 16.527000427246094\n",
            "Sell at: 16.166500091552734\n",
            "Buy at: 15.425999641418457\n",
            "Sell at: 15.347999572753906\n",
            "Buy at: 22.29949951171875\n",
            "Sell at: 21.684499740600586\n",
            "Buy at: 26.83799934387207\n",
            "Sell at: 26.214500427246094\n",
            "Buy at: 26.212499618530273\n",
            "Sell at: 26.06999969482422\n",
            "Buy at: 28.756999969482422\n",
            "Sell at: 28.553499221801758\n",
            "Buy at: 27.946500778198242\n",
            "Sell at: 27.395000457763672\n",
            "Buy at: 32.954498291015625\n",
            "Sell at: 35.873504638671875\n",
            "Buy at: 34.76350021362305\n",
            "Sell at: 34.695499420166016\n",
            "Buy at: 38.03850173950195\n",
            "Sell at: 39.714996337890625\n",
            "Buy at: 41.701499938964844\n",
            "Sell at: 41.51300048828125\n",
            "Buy at: 39.95100021362305\n",
            "Sell at: 40.9739990234375\n",
            "Buy at: 86.18949890136719\n",
            "Sell at: 85.12799835205078\n",
            "Buy at: 82.05449676513672\n",
            "Sell at: 84.76150512695312\n",
            "Buy at: 97.53150177001953\n",
            "Sell at: 94.9000015258789\n",
            "Buy at: 101.04949951171875\n",
            "Sell at: 100.07749938964844\n",
            "Buy at: 91.56749725341797\n",
            "Sell at: 91.23049926757812\n",
            "Buy at: 88.2864990234375\n",
            "Sell at: 88.0999984741211\n",
            "Buy at: 89.41000366210938\n",
            "Sell at: 89.17400360107422\n",
            "Buy at: 95.14399719238281\n",
            "Sell at: 93.0\n",
            "Buy at: 107.78350067138672\n",
            "Sell at: 106.20549774169922\n",
            "Buy at: 118.80000305175781\n",
            "Sell at: 118.1500015258789\n",
            "Buy at: 134.64349365234375\n",
            "Sell at: 134.39999389648438\n",
            "Buy at: 163.635498046875\n",
            "Sell at: 158.0\n",
            "Buy at: 158.864501953125\n",
            "Sell at: 156.00100708007812\n",
            "Buy at: 164.6999969482422\n",
            "Sell at: 162.15750122070312\n",
            "Buy at: 165.45199584960938\n",
            "Sell at: 175.78549194335938\n",
            "Buy at: 172.45399475097656\n",
            "Sell at: 171.54249572753906\n",
            "Buy at: 139.41000366210938\n",
            "Sell at: 138.2899932861328\n",
            "Buy at: 90.55000305175781\n",
            "Sell at: 96.0\n"
          ]
        }
      ],
      "source": [
        "# Implement trading strategy\n",
        "capital = 100000  # Initial capital\n",
        "position = 0  # 0 for no position, 1 for long position\n",
        "stop_loss = 0  # Stop-loss level\n",
        "take_profit = 0  # Take-profit level\n",
        "returns = []  # List to track daily returns\n",
        "buy_dates = []\n",
        "sell_dates = []\n",
        "\n",
        "for i in range(1, len(df)):\n",
        " # Buy signal\n",
        "    if df['MACD'].iloc[i] > df['Signal'].iloc[i] and df['Double_Top'].iloc[i]:\n",
        "        if position == 0:\n",
        "            position = 1\n",
        "            stop_loss = df['Low'].iloc[i]\n",
        "            take_profit = df['High'].iloc[i] + (df['High'].iloc[i] - stop_loss) * 2\n",
        "            buy_dates.append(df.index[i])\n",
        "            returns.append(0)\n",
        "            print('Buy at:', df['Close'].iloc[i])\n",
        "\n",
        " # Sell signal\n",
        "    elif position == 1 and (df['Low'].iloc[i] < stop_loss or df['High'].iloc[i] > take_profit):\n",
        "        position = 0\n",
        "        exit_price = stop_loss if df['Low'].iloc[i] < stop_loss else take_profit\n",
        "        returns.append((exit_price - df['Close'].iloc[i-1]) / df['Close'].iloc[i-1])\n",
        "        capital *= (1 + returns[-1])\n",
        "        sell_dates.append(df.index[i])\n",
        "        print('Sell at:', exit_price)\n",
        "\n",
        " # Hold position\n",
        "    else:\n",
        "        returns.append((df['Close'].iloc[i] - df['Close'].iloc[i-1]) / df['Close'].iloc[i-1])\n",
        "\n",
        "# Remove the dummy return value\n",
        "returns = returns[1:]"
      ]
    },
    {
      "cell_type": "code",
      "source": [
        "# Calculate evaluation metrics\n",
        "cumulative_returns = (capital - 100000) / 100000\n",
        "max_drawdown = np.min(np.subtract.accumulate(returns))\n",
        "daily_returns = np.array(returns)\n",
        "sharpe_ratio = np.sqrt(252) * np.mean(daily_returns) / np.std(daily_returns)"
      ],
      "metadata": {
        "id": "c8IRnxSUrIJL"
      },
      "execution_count": 35,
      "outputs": []
    },
    {
      "cell_type": "code",
      "source": [
        "# Plot equity curve\n",
        "equity_curve = np.cumprod(1 + np.array(returns))\n",
        "plt.plot(df.index[1:len(equity_curve)+1], equity_curve)\n",
        "\n",
        "buy_indices = np.where(df.index.isin(buy_dates))[0]\n",
        "sell_indices = np.where(df.index.isin(sell_dates))[0]\n",
        "\n",
        "# Adjust the sell indices to match the length of the equity curve\n",
        "sell_indices = sell_indices[sell_indices < len(equity_curve)]\n",
        "\n",
        "plt.scatter(df.index[buy_indices], equity_curve[buy_indices], color='green', label='Buy')\n",
        "plt.scatter(df.index[sell_indices], equity_curve[sell_indices], color='red', label='Sell')\n",
        "\n",
        "\n",
        "plt.xlabel('Date')\n",
        "plt.ylabel('Equity')\n",
        "plt.title('Equity Curve')\n",
        "plt.legend()\n",
        "plt.show()\n",
        "\n",
        "# Print evaluation metrics\n",
        "print('Cumulative Returns:', cumulative_returns)\n",
        "print('Maximum Drawdown:', max_drawdown)\n",
        "print('Sharpe Ratio:', sharpe_ratio)\n"
      ],
      "metadata": {
        "colab": {
          "base_uri": "https://localhost:8080/",
          "height": 524
        },
        "id": "0oPKZcpLrBqw",
        "outputId": "94ea5d58-6a93-464b-957c-f248529db248"
      },
      "execution_count": 36,
      "outputs": [
        {
          "output_type": "display_data",
          "data": {
            "text/plain": [
              "<Figure size 640x480 with 1 Axes>"
            ],
            "image/png": "[encoded data removed]"
          },
          "metadata": {}
        },
        {
          "output_type": "stream",
          "name": "stdout",
          "text": [
            "Cumulative Returns: -0.12045360852970043\n",
            "Maximum Drawdown: -3.731517915047971\n",
            "Sharpe Ratio: 0.8004482051889372\n"
          ]
        }
      ]
    }
  ]
}